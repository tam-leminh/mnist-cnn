{
 "cells": [
  {
   "cell_type": "code",
   "execution_count": 1,
   "metadata": {},
   "outputs": [],
   "source": [
    "import numpy as np\n",
    "from scipy.signal import convolve2d\n",
    "from sklearn.datasets import load_digits\n",
    "import matplotlib.pyplot as plt"
   ]
  },
  {
   "cell_type": "code",
   "execution_count": 2,
   "metadata": {},
   "outputs": [],
   "source": [
    "digits = load_digits()"
   ]
  },
  {
   "cell_type": "code",
   "execution_count": 3,
   "metadata": {},
   "outputs": [
    {
     "data": {
      "text/plain": [
       "{'DESCR': \"Optical Recognition of Handwritten Digits Data Set\\n===================================================\\n\\nNotes\\n-----\\nData Set Characteristics:\\n    :Number of Instances: 5620\\n    :Number of Attributes: 64\\n    :Attribute Information: 8x8 image of integer pixels in the range 0..16.\\n    :Missing Attribute Values: None\\n    :Creator: E. Alpaydin (alpaydin '@' boun.edu.tr)\\n    :Date: July; 1998\\n\\nThis is a copy of the test set of the UCI ML hand-written digits datasets\\nhttp://archive.ics.uci.edu/ml/datasets/Optical+Recognition+of+Handwritten+Digits\\n\\nThe data set contains images of hand-written digits: 10 classes where\\neach class refers to a digit.\\n\\nPreprocessing programs made available by NIST were used to extract\\nnormalized bitmaps of handwritten digits from a preprinted form. From a\\ntotal of 43 people, 30 contributed to the training set and different 13\\nto the test set. 32x32 bitmaps are divided into nonoverlapping blocks of\\n4x4 and the number of on pixels are counted in each block. This generates\\nan input matrix of 8x8 where each element is an integer in the range\\n0..16. This reduces dimensionality and gives invariance to small\\ndistortions.\\n\\nFor info on NIST preprocessing routines, see M. D. Garris, J. L. Blue, G.\\nT. Candela, D. L. Dimmick, J. Geist, P. J. Grother, S. A. Janet, and C.\\nL. Wilson, NIST Form-Based Handprint Recognition System, NISTIR 5469,\\n1994.\\n\\nReferences\\n----------\\n  - C. Kaynak (1995) Methods of Combining Multiple Classifiers and Their\\n    Applications to Handwritten Digit Recognition, MSc Thesis, Institute of\\n    Graduate Studies in Science and Engineering, Bogazici University.\\n  - E. Alpaydin, C. Kaynak (1998) Cascading Classifiers, Kybernetika.\\n  - Ken Tang and Ponnuthurai N. Suganthan and Xi Yao and A. Kai Qin.\\n    Linear dimensionalityreduction using relevance weighted LDA. School of\\n    Electrical and Electronic Engineering Nanyang Technological University.\\n    2005.\\n  - Claudio Gentile. A New Approximate Maximal Margin Classification\\n    Algorithm. NIPS. 2000.\\n\",\n",
       " 'data': array([[  0.,   0.,   5., ...,   0.,   0.,   0.],\n",
       "        [  0.,   0.,   0., ...,  10.,   0.,   0.],\n",
       "        [  0.,   0.,   0., ...,  16.,   9.,   0.],\n",
       "        ..., \n",
       "        [  0.,   0.,   1., ...,   6.,   0.,   0.],\n",
       "        [  0.,   0.,   2., ...,  12.,   0.,   0.],\n",
       "        [  0.,   0.,  10., ...,  12.,   1.,   0.]]),\n",
       " 'images': array([[[  0.,   0.,   5., ...,   1.,   0.,   0.],\n",
       "         [  0.,   0.,  13., ...,  15.,   5.,   0.],\n",
       "         [  0.,   3.,  15., ...,  11.,   8.,   0.],\n",
       "         ..., \n",
       "         [  0.,   4.,  11., ...,  12.,   7.,   0.],\n",
       "         [  0.,   2.,  14., ...,  12.,   0.,   0.],\n",
       "         [  0.,   0.,   6., ...,   0.,   0.,   0.]],\n",
       " \n",
       "        [[  0.,   0.,   0., ...,   5.,   0.,   0.],\n",
       "         [  0.,   0.,   0., ...,   9.,   0.,   0.],\n",
       "         [  0.,   0.,   3., ...,   6.,   0.,   0.],\n",
       "         ..., \n",
       "         [  0.,   0.,   1., ...,   6.,   0.,   0.],\n",
       "         [  0.,   0.,   1., ...,   6.,   0.,   0.],\n",
       "         [  0.,   0.,   0., ...,  10.,   0.,   0.]],\n",
       " \n",
       "        [[  0.,   0.,   0., ...,  12.,   0.,   0.],\n",
       "         [  0.,   0.,   3., ...,  14.,   0.,   0.],\n",
       "         [  0.,   0.,   8., ...,  16.,   0.,   0.],\n",
       "         ..., \n",
       "         [  0.,   9.,  16., ...,   0.,   0.,   0.],\n",
       "         [  0.,   3.,  13., ...,  11.,   5.,   0.],\n",
       "         [  0.,   0.,   0., ...,  16.,   9.,   0.]],\n",
       " \n",
       "        ..., \n",
       "        [[  0.,   0.,   1., ...,   1.,   0.,   0.],\n",
       "         [  0.,   0.,  13., ...,   2.,   1.,   0.],\n",
       "         [  0.,   0.,  16., ...,  16.,   5.,   0.],\n",
       "         ..., \n",
       "         [  0.,   0.,  16., ...,  15.,   0.,   0.],\n",
       "         [  0.,   0.,  15., ...,  16.,   0.,   0.],\n",
       "         [  0.,   0.,   2., ...,   6.,   0.,   0.]],\n",
       " \n",
       "        [[  0.,   0.,   2., ...,   0.,   0.,   0.],\n",
       "         [  0.,   0.,  14., ...,  15.,   1.,   0.],\n",
       "         [  0.,   4.,  16., ...,  16.,   7.,   0.],\n",
       "         ..., \n",
       "         [  0.,   0.,   0., ...,  16.,   2.,   0.],\n",
       "         [  0.,   0.,   4., ...,  16.,   2.,   0.],\n",
       "         [  0.,   0.,   5., ...,  12.,   0.,   0.]],\n",
       " \n",
       "        [[  0.,   0.,  10., ...,   1.,   0.,   0.],\n",
       "         [  0.,   2.,  16., ...,   1.,   0.,   0.],\n",
       "         [  0.,   0.,  15., ...,  15.,   0.,   0.],\n",
       "         ..., \n",
       "         [  0.,   4.,  16., ...,  16.,   6.,   0.],\n",
       "         [  0.,   8.,  16., ...,  16.,   8.,   0.],\n",
       "         [  0.,   1.,   8., ...,  12.,   1.,   0.]]]),\n",
       " 'target': array([0, 1, 2, ..., 8, 9, 8]),\n",
       " 'target_names': array([0, 1, 2, 3, 4, 5, 6, 7, 8, 9])}"
      ]
     },
     "execution_count": 3,
     "metadata": {},
     "output_type": "execute_result"
    }
   ],
   "source": [
    "digits"
   ]
  },
  {
   "cell_type": "code",
   "execution_count": 4,
   "metadata": {},
   "outputs": [
    {
     "data": {
      "text/plain": [
       "<matplotlib.image.AxesImage at 0xa315a20>"
      ]
     },
     "execution_count": 4,
     "metadata": {},
     "output_type": "execute_result"
    },
    {
     "data": {
      "image/png": "[encoded data removed]",
      "text/plain": [
       "<Figure size 432x288 with 1 Axes>"
      ]
     },
     "metadata": {
      "needs_background": "light"
     },
     "output_type": "display_data"
    }
   ],
   "source": [
    "plt.imshow(digits.images[0]) "
   ]
  },
  {
   "cell_type": "code",
   "execution_count": 5,
   "metadata": {},
   "outputs": [
    {
     "data": {
      "text/plain": [
       "<matplotlib.image.AxesImage at 0x9e23320>"
      ]
     },
     "execution_count": 5,
     "metadata": {},
     "output_type": "execute_result"
    },
    {
     "data": {
      "image/png": "[encoded data removed]",
      "text/plain": [
       "<Figure size 288x288 with 1 Axes>"
      ]
     },
     "metadata": {
      "needs_background": "light"
     },
     "output_type": "display_data"
    }
   ],
   "source": [
    "plt.matshow(digits.images[0]) "
   ]
  },
  {
   "cell_type": "code",
   "execution_count": 6,
   "metadata": {},
   "outputs": [
    {
     "data": {
      "text/plain": [
       "0"
      ]
     },
     "execution_count": 6,
     "metadata": {},
     "output_type": "execute_result"
    }
   ],
   "source": [
    "digits.target[0]"
   ]
  },
  {
   "cell_type": "code",
   "execution_count": 13,
   "metadata": {},
   "outputs": [
    {
     "data": {
      "text/plain": [
       "array([[[ 0.52839686,  0.99652594,  0.69282039],\n",
       "        [ 0.20712387,  0.52624972,  0.54259642],\n",
       "        [ 0.8564117 ,  0.47990743,  0.15529322]],\n",
       "\n",
       "       [[ 0.42126367,  0.47261037,  0.46434231],\n",
       "        [ 0.4743605 ,  0.06712359,  0.46874876],\n",
       "        [ 0.40678892,  0.9874877 ,  0.59719916]],\n",
       "\n",
       "       [[ 0.73659843,  0.67387328,  0.61340283],\n",
       "        [ 0.65011846,  0.4195823 ,  0.42349569],\n",
       "        [ 0.21501066,  0.56774949,  0.34191442]],\n",
       "\n",
       "       [[ 0.56103157,  0.62488798,  0.52736761],\n",
       "        [ 0.43786575,  0.74155817,  0.64693258],\n",
       "        [ 0.45350035,  0.14369779,  0.37437074]],\n",
       "\n",
       "       [[ 0.55070716,  0.31074714,  0.6564106 ],\n",
       "        [ 0.54637904,  0.46805532,  0.94857869],\n",
       "        [ 0.76147593,  0.41687142,  0.44511571]],\n",
       "\n",
       "       [[ 0.93211945,  0.36294216,  0.73149967],\n",
       "        [ 0.26781513,  0.27728772,  0.50243061],\n",
       "        [ 0.48826641,  0.35500854,  0.46286805]],\n",
       "\n",
       "       [[ 0.30212873,  0.89864048,  0.41450835],\n",
       "        [ 0.72328225,  0.04987686,  0.45318939],\n",
       "        [ 0.75370881,  0.62677219,  0.62911958]],\n",
       "\n",
       "       [[ 0.4806702 ,  0.14745059,  0.78643434],\n",
       "        [ 0.22362931,  0.97080777,  0.60262959],\n",
       "        [ 0.44090542,  0.89305235,  0.2837574 ]],\n",
       "\n",
       "       [[ 0.92574104,  0.68875718,  0.02364909],\n",
       "        [ 0.38973226,  0.94666609,  0.82632002],\n",
       "        [ 0.72672515,  0.43382652,  0.62620688]],\n",
       "\n",
       "       [[ 0.91385293,  0.34294659,  0.72186292],\n",
       "        [ 0.91265543,  0.45211449,  0.242466  ],\n",
       "        [ 0.69231666,  0.2519669 ,  0.14512295]],\n",
       "\n",
       "       [[ 0.40363784,  0.65439286,  0.75442896],\n",
       "        [ 0.63723094,  0.08049399,  0.66644664],\n",
       "        [ 0.23017912,  0.16850269,  0.41720376]],\n",
       "\n",
       "       [[ 0.53175377,  0.7258144 ,  0.07402443],\n",
       "        [ 0.27950117,  0.12003638,  0.43680484],\n",
       "        [ 0.45440047,  0.80642228,  0.31234905]],\n",
       "\n",
       "       [[ 0.70342945,  0.83641441,  0.20817706],\n",
       "        [ 0.64944463,  0.79788735,  0.79814777],\n",
       "        [ 0.27021072,  0.79838857,  0.89259248]],\n",
       "\n",
       "       [[ 0.92190539,  0.89558114,  0.79131217],\n",
       "        [ 0.15320216,  0.38403445,  0.1866327 ],\n",
       "        [ 0.80228022,  0.39470332,  0.62914413]],\n",
       "\n",
       "       [[ 0.04874169,  0.30882523,  0.98522755],\n",
       "        [ 0.90763316,  0.7552431 ,  0.32155202],\n",
       "        [ 0.82426248,  0.80728283,  0.41019862]],\n",
       "\n",
       "       [[ 0.03850772,  0.41384444,  0.10279871],\n",
       "        [ 0.42932884,  0.4489645 ,  0.1334803 ],\n",
       "        [ 0.36467752,  0.40567489,  0.02217907]]])"
      ]
     },
     "execution_count": 13,
     "metadata": {},
     "output_type": "execute_result"
    }
   ],
   "source": [
    "W = np.random.sample((16,3,3))-1/2\n",
    "W"
   ]
  },
  {
   "cell_type": "code",
   "execution_count": 11,
   "metadata": {},
   "outputs": [
    {
     "name": "stdout",
     "output_type": "stream",
     "text": [
      "[[ 0.83154451  0.36512615  0.37297148]\n",
      " [ 0.9494002   0.44718351  0.4835481 ]\n",
      " [ 0.75656786  0.62295718  0.91090479]]\n",
      "[[ 0.59839381  0.45631641  0.31976085]\n",
      " [ 0.89698346  0.44209078  0.49737844]\n",
      " [ 0.91939708  0.23172073  0.60340925]]\n",
      "[[ 0.74169459  0.77891518  0.51171884]\n",
      " [ 0.23660492  0.55443624  0.42261749]\n",
      " [ 0.11794497  0.14216471  0.85931298]]\n",
      "[[ 0.12998415  0.88005202  0.85207528]\n",
      " [ 0.52467701  0.86988449  0.22151714]\n",
      " [ 0.48219255  0.2196302   0.85219309]]\n",
      "[[ 0.06492506  0.28785037  0.47006686]\n",
      " [ 0.34591626  0.66320236  0.78735022]\n",
      " [ 0.80760356  0.14931949  0.26298567]]\n",
      "[[ 0.25606322  0.73264677  0.48418986]\n",
      " [ 0.57129276  0.34099492  0.65966777]\n",
      " [ 0.01747977  0.24617733  0.71351458]]\n",
      "[[ 0.65853287  0.64791899  0.84960179]\n",
      " [ 0.9516264   0.3008654   0.87827958]\n",
      " [ 0.33301519  0.94287608  0.92726489]]\n",
      "[[ 0.91603899  0.9404642   0.56802409]\n",
      " [ 0.96340287  0.33004923  0.37361574]\n",
      " [ 0.14090489  0.47786725  0.26640132]]\n",
      "[[ 0.08686296  0.84384507  0.49581885]\n",
      " [ 0.66428655  0.34603379  0.72722818]\n",
      " [ 0.59889403  0.54489145  0.43200262]]\n",
      "[[ 0.88573936  0.31904046  0.46403957]\n",
      " [ 0.57160456  0.22065761  0.25104221]\n",
      " [ 0.30301944  0.29306248  0.12662051]]\n",
      "[[ 0.27940012  0.54575079  0.87803088]\n",
      " [ 0.44255525  0.58405097  0.38864855]\n",
      " [ 0.54997183  0.6628331   0.80828376]]\n",
      "[[ 0.24558883  0.36133383  0.87041577]\n",
      " [ 0.56897968  0.08177993  0.51258017]\n",
      " [ 0.34334543  0.93648796  0.70008969]]\n",
      "[[ 0.02822574  0.92812428  0.68794035]\n",
      " [ 0.24516992  0.76002176  0.44265021]\n",
      " [ 0.47359222  0.6118209   0.46622054]]\n",
      "[[ 0.81822054  0.25477873  0.01198156]\n",
      " [ 0.30171554  0.25029624  0.25706614]\n",
      " [ 0.93448402  0.97724472  0.96378135]]\n",
      "[[ 0.27102348  0.06233435  0.98382203]\n",
      " [ 0.84162049  0.04398769  0.20434579]\n",
      " [ 0.61559597  0.69066091  0.77238874]]\n",
      "[[ 0.55706713  0.64100417  0.35926889]\n",
      " [ 0.03713907  0.87142627  0.21213809]\n",
      " [ 0.24437277  0.38731874  0.79776649]]\n"
     ]
    }
   ],
   "source": [
    "for i,f in enumerate(W):\n",
    "    print(f)"
   ]
  },
  {
   "cell_type": "code",
   "execution_count": 22,
   "metadata": {},
   "outputs": [],
   "source": [
    "z = convolve2d(digits.images[0],W[6],mode='same')"
   ]
  },
  {
   "cell_type": "code",
   "execution_count": 23,
   "metadata": {},
   "outputs": [
    {
     "data": {
      "text/plain": [
       "<matplotlib.image.AxesImage at 0xb39b438>"
      ]
     },
     "execution_count": 23,
     "metadata": {},
     "output_type": "execute_result"
    },
    {
     "data": {
      "image/png": "[encoded data removed]",
      "text/plain": [
       "<Figure size 288x288 with 1 Axes>"
      ]
     },
     "metadata": {
      "needs_background": "light"
     },
     "output_type": "display_data"
    }
   ],
   "source": [
    "plt.matshow(z)"
   ]
  },
  {
   "cell_type": "code",
   "execution_count": 24,
   "metadata": {},
   "outputs": [
    {
     "data": {
      "text/plain": [
       "(8L, 8L)"
      ]
     },
     "execution_count": 24,
     "metadata": {},
     "output_type": "execute_result"
    }
   ],
   "source": [
    "z.shape"
   ]
  },
  {
   "cell_type": "code",
   "execution_count": null,
   "metadata": {},
   "outputs": [],
   "source": []
  }
 ],
 "metadata": {
  "kernelspec": {
   "display_name": "Python 2",
   "language": "python",
   "name": "python2"
  },
  "language_info": {
   "codemirror_mode": {
    "name": "ipython",
    "version": 2
   },
   "file_extension": ".py",
   "mimetype": "text/x-python",
   "name": "python",
   "nbconvert_exporter": "python",
   "pygments_lexer": "ipython2",
   "version": "2.7.15"
  }
 },
 "nbformat": 4,
 "nbformat_minor": 2
}
