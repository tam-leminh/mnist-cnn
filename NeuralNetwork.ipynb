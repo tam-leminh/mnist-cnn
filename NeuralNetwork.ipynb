{
 "cells": [
  {
   "cell_type": "code",
   "execution_count": 1,
   "metadata": {},
   "outputs": [],
   "source": [
    "import numpy as np\n",
    "from sklearn.datasets import load_digits\n",
    "import matplotlib.pyplot as plt\n",
    "\n",
    "def leaky_relu(x):\n",
    "    if x >=0:\n",
    "        return x\n",
    "    else:\n",
    "        return -0.01*x\n",
    "    \n",
    "def softmax(x):\n",
    "    return np.exp(x)/np.sum(np.exp(x))\n",
    "\n",
    "def loss(pred, y):\n",
    "    return -1.*np.sum(y*np.log(pred))"
   ]
  },
  {
   "cell_type": "code",
   "execution_count": 2,
   "metadata": {},
   "outputs": [],
   "source": [
    "digits = load_digits()\n",
    "X = digits.images\n",
    "X = X.T\n",
    "#X = X.T.reshape((8,8,1797))\n",
    "Y = digits.target"
   ]
  },
  {
   "cell_type": "code",
   "execution_count": 3,
   "metadata": {},
   "outputs": [],
   "source": [
    "W_1 = 1/1024*(np.random.sample((1024,64)) - 1/2)\n",
    "b_1 = np.random.sample((1024,1)) - 1/2\n",
    "\n",
    "W_2 = np.random.sample((10,1024)) - 1/2\n",
    "b_2 = np.random.sample((10,1)) - 1/2"
   ]
  },
  {
   "cell_type": "code",
   "execution_count": 4,
   "metadata": {},
   "outputs": [],
   "source": [
    "Z_1 = np.dot(W_1, X.reshape((64,1797))) + b_1"
   ]
  },
  {
   "cell_type": "code",
   "execution_count": 5,
   "metadata": {},
   "outputs": [
    {
     "data": {
      "text/plain": [
       "array([[ 0.50140331,  0.50140331,  0.50140331, ...,  0.50140331,\n",
       "         0.50140331,  0.50140331],\n",
       "       [ 0.00798246,  0.00798246,  0.00798246, ...,  0.00798246,\n",
       "         0.00798246,  0.00798246],\n",
       "       [ 0.70857361,  0.70857361,  0.70857361, ...,  0.70857361,\n",
       "         0.70857361,  0.70857361],\n",
       "       ..., \n",
       "       [ 0.63345682,  0.63345682,  0.63345682, ...,  0.63345682,\n",
       "         0.63345682,  0.63345682],\n",
       "       [ 0.74191005,  0.74191005,  0.74191005, ...,  0.74191005,\n",
       "         0.74191005,  0.74191005],\n",
       "       [ 0.08922102,  0.08922102,  0.08922102, ...,  0.08922102,\n",
       "         0.08922102,  0.08922102]])"
      ]
     },
     "execution_count": 5,
     "metadata": {},
     "output_type": "execute_result"
    }
   ],
   "source": [
    "Z_1"
   ]
  },
  {
   "cell_type": "code",
   "execution_count": 6,
   "metadata": {},
   "outputs": [],
   "source": [
    "A_1 = np.vectorize(leaky_relu)(Z_1)"
   ]
  },
  {
   "cell_type": "code",
   "execution_count": 7,
   "metadata": {},
   "outputs": [],
   "source": [
    "Z_2 = np.dot(W_2, A_1) + b_2"
   ]
  },
  {
   "cell_type": "code",
   "execution_count": 8,
   "metadata": {},
   "outputs": [],
   "source": [
    "pred = softmax(Z_2)"
   ]
  },
  {
   "cell_type": "code",
   "execution_count": 9,
   "metadata": {},
   "outputs": [
    {
     "data": {
      "text/plain": [
       "1446034.2485929588"
      ]
     },
     "execution_count": 9,
     "metadata": {},
     "output_type": "execute_result"
    }
   ],
   "source": [
    "loss(pred, Y)"
   ]
  },
  {
   "cell_type": "code",
   "execution_count": null,
   "metadata": {},
   "outputs": [],
   "source": []
  }
 ],
 "metadata": {
  "kernelspec": {
   "display_name": "Python 2",
   "language": "python",
   "name": "python2"
  },
  "language_info": {
   "codemirror_mode": {
    "name": "ipython",
    "version": 2
   },
   "file_extension": ".py",
   "mimetype": "text/x-python",
   "name": "python",
   "nbconvert_exporter": "python",
   "pygments_lexer": "ipython2",
   "version": "2.7.15"
  }
 },
 "nbformat": 4,
 "nbformat_minor": 2
}
