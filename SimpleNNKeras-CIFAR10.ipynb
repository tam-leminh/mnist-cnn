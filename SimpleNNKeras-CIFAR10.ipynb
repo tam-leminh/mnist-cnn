{
 "cells": [
  {
   "cell_type": "code",
   "execution_count": null,
   "metadata": {},
   "outputs": [],
   "source": [
    "import tensorflow as tf\n",
    "from tensorflow import keras\n",
    "import numpy as np\n",
    "import matplotlib.pyplot as plt\n",
    "from tensorflow.keras import optimizers\n",
    "\n",
    "def unpickle(file):\n",
    "    import pickle\n",
    "    with open(file, 'rb') as fo:\n",
    "        dic = pickle.load(fo, encoding='bytes')\n",
    "    return dic\n",
    "\n",
    "def load_data(path=None):\n",
    "    if path is None:\n",
    "        print(\"none\")\n",
    "        cifar = keras.datasets.cifar10\n",
    "        return cifar.load_data()\n",
    "    else:\n",
    "        d=[]\n",
    "        l=[]\n",
    "        for i in range(5):\n",
    "            batch = unpickle(path + \"/data_batch_\" + str(i+1))\n",
    "            d.append(batch[b'data'].reshape((10000, 3, 32, 32)).transpose(0, 2, 3, 1))\n",
    "            l.append(np.asarray(batch[b'labels']).reshape((10000,1)))\n",
    "        train_images = np.concatenate( [ d[i] for i in range(5) ])\n",
    "        train_labels = np.concatenate( [ l[i] for i in range(5) ])\n",
    "        batch = unpickle(path + \"/test_batch\")\n",
    "        test_images = batch[b'data'].reshape((10000, 3, 32, 32)).transpose(0, 2, 3, 1)\n",
    "        test_labels = np.asarray(batch[b'labels']).reshape((10000,1))\n",
    "        return (train_images, train_labels), (test_images, test_labels)\n",
    "                 \n",
    "def normalize_data(data, mu=None, sigma=None, epsilon=10e-8):\n",
    "    epsilon = 10e-8\n",
    "    if mu is None:\n",
    "        mu = np.mean(data, axis=0)\n",
    "    if sigma is None:\n",
    "        sigma = np.sqrt(np.var(data, axis=0))\n",
    "    norm_data = (data-mu)/(sigma+epsilon)\n",
    "    return norm_data, mu, sigma\n",
    "\n",
    "def unnormalize_data(norm_data, mu, sigma, epsilon=10e-8):\n",
    "    data = norm_data*(sigma+epsilon) + mu\n",
    "    return data\n",
    "        \n",
    "def plot_image(i, predictions_array, true_label, img):\n",
    "    predictions_array, true_label, img = predictions_array[i], true_label.reshape((true_label.shape[0],))[i], img[i]\n",
    "    plt.grid(False)\n",
    "    plt.xticks([])\n",
    "    plt.yticks([])\n",
    "\n",
    "    plt.imshow(img, cmap=plt.cm.binary)\n",
    "\n",
    "    predicted_label = np.argmax(predictions_array)\n",
    "    if predicted_label == true_label:\n",
    "        color = 'blue'\n",
    "    else:\n",
    "        color = 'red'\n",
    "\n",
    "    plt.xlabel(\"{} {:2.0f}% ({})\".format(class_names[predicted_label],\n",
    "                                100*np.max(predictions_array),\n",
    "                                class_names[true_label]),\n",
    "                                color=color)\n",
    "\n",
    "def plot_value_array(i, predictions_array, true_label):\n",
    "    predictions_array, true_label = predictions_array[i], true_label.reshape((true_label.shape[0],))[i]\n",
    "    plt.grid(False)\n",
    "    plt.xticks([])\n",
    "    plt.yticks([])\n",
    "    thisplot = plt.bar(range(10), predictions_array, color=\"#777777\")\n",
    "    plt.ylim([0, 1]) \n",
    "    predicted_label = np.argmax(predictions_array)\n",
    "\n",
    "    thisplot[predicted_label].set_color('red')\n",
    "    thisplot[true_label].set_color('blue')"
   ]
  },
  {
   "cell_type": "code",
   "execution_count": null,
   "metadata": {},
   "outputs": [],
   "source": [
    "(train_images, train_labels), (test_images, test_labels) = load_data()\n",
    "#(train_images, train_labels), (test_images, test_labels) = load_data(\"data/cifar-10-batches-py\")"
   ]
  },
  {
   "cell_type": "code",
   "execution_count": null,
   "metadata": {},
   "outputs": [],
   "source": [
    "class_names = ['Airplane', 'Automobile', 'Bird', 'Cat', 'Deer', \n",
    "               'Dog', 'Frog', 'Horse', 'Ship', 'Truck']"
   ]
  },
  {
   "cell_type": "code",
   "execution_count": null,
   "metadata": {},
   "outputs": [],
   "source": [
    "train_images, mu_X, sigma_X = normalize_data(train_images)\n",
    "test_images, mu_X, sigma_X = normalize_data(test_images, mu_X, sigma_X)"
   ]
  },
  {
   "cell_type": "code",
   "execution_count": null,
   "metadata": {},
   "outputs": [],
   "source": [
    "train_images.shape"
   ]
  },
  {
   "cell_type": "code",
   "execution_count": null,
   "metadata": {},
   "outputs": [],
   "source": [
    "model = keras.Sequential([\n",
    "    keras.layers.Flatten(input_shape=(32,32,3)),\n",
    "    keras.layers.Dense(1024),\n",
    "    keras.layers.LeakyReLU(alpha=0.01),\n",
    "    keras.layers.Dense(128),\n",
    "    keras.layers.LeakyReLU(alpha=0.01),\n",
    "    keras.layers.Dense(10, activation=tf.nn.softmax)\n",
    "])"
   ]
  },
  {
   "cell_type": "code",
   "execution_count": null,
   "metadata": {},
   "outputs": [],
   "source": [
    "sgd = optimizers.SGD(lr=0.01, decay=0, momentum=0.9, nesterov=False)\n",
    "keras.optimizers.RMSprop(lr=0.01, rho=0.9, epsilon=10e-7, decay=0.0)\n",
    "model.compile(optimizer='adam', \n",
    "              loss='sparse_categorical_crossentropy',\n",
    "              metrics=['accuracy'])"
   ]
  },
  {
   "cell_type": "code",
   "execution_count": null,
   "metadata": {},
   "outputs": [],
   "source": [
    "model.fit(train_images, train_labels, batch_size=1024, epochs=5)"
   ]
  },
  {
   "cell_type": "code",
   "execution_count": null,
   "metadata": {},
   "outputs": [],
   "source": [
    "test_loss, test_acc = model.evaluate(test_images, test_labels)\n",
    "\n",
    "print('Test accuracy:', test_acc)\n"
   ]
  },
  {
   "cell_type": "code",
   "execution_count": null,
   "metadata": {},
   "outputs": [],
   "source": [
    "predictions = model.predict(test_images)"
   ]
  },
  {
   "cell_type": "code",
   "execution_count": null,
   "metadata": {},
   "outputs": [],
   "source": [
    "i = 100\n",
    "plt.figure(figsize=(6,3))\n",
    "plt.subplot(1,2,1)\n",
    "plot_image(i, predictions, test_labels, unnormalize_data(test_images, mu_X, sigma_X)/255.)\n",
    "plt.subplot(1,2,2)\n",
    "plot_value_array(i, predictions, test_labels)"
   ]
  },
  {
   "cell_type": "code",
   "execution_count": null,
   "metadata": {},
   "outputs": [],
   "source": []
  }
 ],
 "metadata": {
  "kernelspec": {
   "display_name": "Python 3",
   "language": "python",
   "name": "python3"
  },
  "language_info": {
   "codemirror_mode": {
    "name": "ipython",
    "version": 3
   },
   "file_extension": ".py",
   "mimetype": "text/x-python",
   "name": "python",
   "nbconvert_exporter": "python",
   "pygments_lexer": "ipython3",
   "version": "3.6.6"
  }
 },
 "nbformat": 4,
 "nbformat_minor": 2
}
