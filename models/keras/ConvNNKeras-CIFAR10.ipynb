{
 "cells": [
  {
   "cell_type": "code",
   "execution_count": null,
   "metadata": {},
   "outputs": [],
   "source": [
    "import tensorflow as tf\n",
    "from tensorflow import keras\n",
    "import numpy as np\n",
    "import matplotlib.pyplot as plt\n",
    "from tensorflow.keras import optimizers\n",
    "from src.Utils import normalize_data, unnormalize_data, plot_image, plot_value_array\n",
    "\n",
    "def unpickle(file):\n",
    "    import pickle\n",
    "    with open(file, 'rb') as fo:\n",
    "        dic = pickle.load(fo, encoding='bytes')\n",
    "    return dic\n",
    "\n",
    "def load_data(path=None):\n",
    "    if path is None:\n",
    "        cifar = keras.datasets.cifar10\n",
    "        return cifar.load_data()\n",
    "    else:\n",
    "        d=[]\n",
    "        l=[]\n",
    "        for i in range(5):\n",
    "            batch = unpickle(path + \"/data_batch_\" + str(i+1))\n",
    "            d.append(batch[b'data'].reshape((10000, 3, 32, 32)).transpose(0, 2, 3, 1))\n",
    "            l.append(np.asarray(batch[b'labels']).reshape((10000,1)))\n",
    "        train_images = np.concatenate( [ d[i] for i in range(5) ])\n",
    "        train_labels = np.concatenate( [ l[i] for i in range(5) ])\n",
    "        batch = unpickle(path + \"/test_batch\")\n",
    "        test_images = batch[b'data'].reshape((10000, 3, 32, 32)).transpose(0, 2, 3, 1)\n",
    "        test_labels = np.asarray(batch[b'labels']).reshape((10000,1))\n",
    "        return (train_images, train_labels), (test_images, test_labels)"
   ]
  },
  {
   "cell_type": "code",
   "execution_count": null,
   "metadata": {},
   "outputs": [],
   "source": [
    "(train_images, train_labels), (test_images, test_labels) = load_data()\n",
    "#(train_images, train_labels), (test_images, test_labels) = load_data(\"data/cifar-10-batches-py\")"
   ]
  },
  {
   "cell_type": "code",
   "execution_count": null,
   "metadata": {},
   "outputs": [],
   "source": [
    "class_names = ['Airplane', 'Automobile', 'Bird', 'Cat', 'Deer', \n",
    "               'Dog', 'Frog', 'Horse', 'Ship', 'Truck']"
   ]
  },
  {
   "cell_type": "code",
   "execution_count": null,
   "metadata": {},
   "outputs": [],
   "source": [
    "train_images, mu_X, sigma_X = normalize_data(train_images)\n",
    "test_images, mu_X, sigma_X = normalize_data(test_images, mu_X, sigma_X)"
   ]
  },
  {
   "cell_type": "code",
   "execution_count": null,
   "metadata": {},
   "outputs": [],
   "source": [
    "optimizer_names = ['SGD', 'Adagrad', 'RMSprop', 'Adam']\n",
    "optimizer_list = [ \n",
    "    optimizers.SGD(lr=0.01, momentum=0.9, decay=0.001), \n",
    "    optimizers.Adagrad(lr=0.01),\n",
    "    optimizers.RMSprop(),\n",
    "    optimizers.Adam()\n",
    "    ]\n",
    "model = []\n",
    "\n",
    "for i, name in enumerate(optimizer_names):\n",
    "    model.append(keras.Sequential([\n",
    "        keras.layers.Conv2D(16, kernel_size=3, padding='same'),\n",
    "        keras.layers.LeakyReLU(alpha=0.01),\n",
    "        keras.layers.MaxPooling2D(pool_size=(2,2), strides=(2,2), padding='valid', data_format=None),\n",
    "        keras.layers.Flatten(),\n",
    "        keras.layers.Dense(1024),\n",
    "        keras.layers.LeakyReLU(alpha=0.01),\n",
    "        keras.layers.Dense(64),\n",
    "        keras.layers.LeakyReLU(alpha=0.01),\n",
    "        keras.layers.Dense(10, activation=tf.nn.softmax)\n",
    "    ]))\n",
    "    model[i].compile(optimizer=optimizer_list[i], \n",
    "                     loss='sparse_categorical_crossentropy',\n",
    "                     metrics=['accuracy'])"
   ]
  },
  {
   "cell_type": "code",
   "execution_count": null,
   "metadata": {},
   "outputs": [],
   "source": [
    "for i in range(len(optimizer_names)):\n",
    "    model[i].fit(train_images, train_labels, batch_size=1024, epochs=5)"
   ]
  },
  {
   "cell_type": "code",
   "execution_count": null,
   "metadata": {},
   "outputs": [],
   "source": [
    "for i in range(len(optimizer_names)):\n",
    "    test_loss, test_acc = model[i].evaluate(test_images, test_labels)\n",
    "    print('Test accuracy:', test_acc)"
   ]
  },
  {
   "cell_type": "code",
   "execution_count": null,
   "metadata": {},
   "outputs": [],
   "source": [
    "for i in range(len(optimizer_names)):\n",
    "    plt.plot(range(0,5), model[i].history.history['loss'])\n",
    "    plt.xlim(0,5)\n",
    "    plt.ylim(0,2)\n",
    "    plt.legend(['SGD', 'Adagrad', 'RMSprop', 'Adam'], loc='upper right')"
   ]
  },
  {
   "cell_type": "code",
   "execution_count": null,
   "metadata": {},
   "outputs": [],
   "source": []
  }
 ],
 "metadata": {
  "kernelspec": {
   "display_name": "Python 3",
   "language": "python",
   "name": "python3"
  },
  "language_info": {
   "codemirror_mode": {
    "name": "ipython",
    "version": 3
   },
   "file_extension": ".py",
   "mimetype": "text/x-python",
   "name": "python",
   "nbconvert_exporter": "python",
   "pygments_lexer": "ipython3",
   "version": "3.6.6"
  }
 },
 "nbformat": 4,
 "nbformat_minor": 2
}
