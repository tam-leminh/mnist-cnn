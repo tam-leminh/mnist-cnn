{
 "cells": [
  {
   "cell_type": "code",
   "execution_count": null,
   "metadata": {},
   "outputs": [],
   "source": [
    "import tensorflow as tf\n",
    "from tensorflow import keras\n",
    "import numpy as np\n",
    "import matplotlib.pyplot as plt\n",
    "from tensorflow.keras import optimizers\n",
    "from src.Utils import normalize_data, unnormalize_data, plot_image, plot_value_array"
   ]
  },
  {
   "cell_type": "code",
   "execution_count": null,
   "metadata": {},
   "outputs": [],
   "source": [
    "fashion_mnist = keras.datasets.fashion_mnist"
   ]
  },
  {
   "cell_type": "code",
   "execution_count": null,
   "metadata": {},
   "outputs": [],
   "source": [
    "(train_images, train_labels), (test_images, test_labels) = fashion_mnist.load_data()"
   ]
  },
  {
   "cell_type": "code",
   "execution_count": null,
   "metadata": {},
   "outputs": [],
   "source": [
    "train_images, mu_X, sigma_X = normalize_data(train_images)\n",
    "test_images, mu_X, sigma_X = normalize_data(test_images, mu_X, sigma_X)\n",
    "\n",
    "class_names = ['T-shirt/top', 'Trouser', 'Pullover', 'Dress', 'Coat', \n",
    "       'Sandal', 'Shirt', 'Sneaker', 'Bag', 'Ankle boot']"
   ]
  },
  {
   "cell_type": "code",
   "execution_count": null,
   "metadata": {},
   "outputs": [],
   "source": [
    "optimizer_names = ['SGD', 'Adagrad', 'RMSprop', 'Adam']\n",
    "optimizer_list = [ \n",
    "    optimizers.SGD(lr=0.64, momentum=0.9, decay=0.001), \n",
    "    optimizers.Adagrad(),\n",
    "    optimizers.RMSprop(),\n",
    "    optimizers.Adam()\n",
    "    ]\n",
    "model = []\n",
    "\n",
    "for i, name in enumerate(optimizer_names):\n",
    "    model.append(keras.Sequential([\n",
    "        keras.layers.Flatten(input_shape=(28, 28)),\n",
    "        keras.layers.Dense(1024),\n",
    "        keras.layers.LeakyReLU(alpha=0.01),\n",
    "        keras.layers.Dense(128),\n",
    "        keras.layers.LeakyReLU(alpha=0.01),\n",
    "        keras.layers.Dense(10, activation=tf.nn.softmax)\n",
    "    ]))\n",
    "    model[i].compile(optimizer=optimizer_list[i], \n",
    "                     loss='sparse_categorical_crossentropy',\n",
    "                     metrics=['accuracy'])"
   ]
  },
  {
   "cell_type": "code",
   "execution_count": null,
   "metadata": {
    "scrolled": true
   },
   "outputs": [],
   "source": [
    "for i in range(len(optimizer_names)):\n",
    "    model[i].fit(train_images, train_labels, batch_size=1024, epochs=100)\n"
   ]
  },
  {
   "cell_type": "code",
   "execution_count": null,
   "metadata": {},
   "outputs": [],
   "source": [
    "for i in range(len(optimizer_names)):\n",
    "    test_loss, test_acc = model[i].evaluate(test_images, test_labels)\n",
    "    print('Test accuracy:', test_acc)\n"
   ]
  },
  {
   "cell_type": "code",
   "execution_count": null,
   "metadata": {},
   "outputs": [],
   "source": [
    "for i in range(len(optimizer_names)):\n",
    "    plt.plot(range(0,200), model[i].history.history['loss'])\n",
    "plt.xlim(0,200)\n",
    "plt.ylim(0,0.4)\n",
    "plt.legend(['SGD', 'Adagrad', 'RMSprop', 'Adam'], loc='upper right')"
   ]
  },
  {
   "cell_type": "code",
   "execution_count": null,
   "metadata": {},
   "outputs": [],
   "source": []
  }
 ],
 "metadata": {
  "kernelspec": {
   "display_name": "Python 3",
   "language": "python",
   "name": "python3"
  },
  "language_info": {
   "codemirror_mode": {
    "name": "ipython",
    "version": 3
   },
   "file_extension": ".py",
   "mimetype": "text/x-python",
   "name": "python",
   "nbconvert_exporter": "python",
   "pygments_lexer": "ipython3",
   "version": "3.6.6"
  }
 },
 "nbformat": 4,
 "nbformat_minor": 2
}
